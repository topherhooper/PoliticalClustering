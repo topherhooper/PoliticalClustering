{
 "cells": [
  {
   "cell_type": "code",
   "execution_count": 1,
   "metadata": {},
   "outputs": [],
   "source": [
    "%matplotlib inline\n",
    "from fifteen_sixteen_analysis import *"
   ]
  },
  {
   "cell_type": "code",
   "execution_count": 2,
   "metadata": {},
   "outputs": [
    {
     "name": "stdout",
     "output_type": "stream",
     "text": [
      "api_data_gov.key  bash_lib  data  LICENSE  nbs\tnotebooks  py_lib  README.md\n"
     ]
    }
   ],
   "source": [
    "!ls .."
   ]
  },
  {
   "cell_type": "code",
   "execution_count": 3,
   "metadata": {},
   "outputs": [],
   "source": [
    "# 2015-2016\n",
    "CONTRIBUTIONS_COMMITTEE_INDIVS = \"../data/itpas2.txt\"\n",
    "CANDIDATES = '../data/weball16.txt'\n",
    "RACE = \"G2016\"\n",
    "NUMBER_OF_COMPONENTS = 10\n",
    "NEIGHBORS=10\n",
    "\n",
    "import os.path\n",
    "assert os.path.isfile(CONTRIBUTIONS_COMMITTEE_INDIVS)"
   ]
  },
  {
   "cell_type": "code",
   "execution_count": 4,
   "metadata": {},
   "outputs": [
    {
     "name": "stderr",
     "output_type": "stream",
     "text": [
      "/opt/conda/lib/python3.6/site-packages/IPython/core/interactiveshell.py:3185: DtypeWarning: Columns (10,11,12,19,20) have mixed types. Specify dtype option on import or set low_memory=False.\n",
      "  if (yield from self.run_code(code, result)):\n"
     ]
    }
   ],
   "source": [
    "sixteen_contri_df = read_contribution_tables(CONTRIBUTIONS_COMMITTEE_INDIVS)\n",
    "candidates = read_candidates_table(CANDIDATES)\n"
   ]
  },
  {
   "cell_type": "code",
   "execution_count": 5,
   "metadata": {},
   "outputs": [],
   "source": [
    "rich_names = get_id_name_summed(\n",
    "    contri_df=sixteen_contri_df,\n",
    "    candid_df=candidates\n",
    ")\n",
    "filtered_df = filter_group_pivot(election_df=sixteen_contri_df, race=RACE)\n",
    "\n",
    "nmf = sklearn.decomposition.NMF(n_components=NUMBER_OF_COMPONENTS)\n",
    "tst = nmf.fit_transform(filtered_df.fillna(0))\n",
    "kd = sp.kdtree.KDTree(tst)"
   ]
  },
  {
   "cell_type": "code",
   "execution_count": null,
   "metadata": {},
   "outputs": [],
   "source": []
  },
  {
   "cell_type": "code",
   "execution_count": 6,
   "metadata": {},
   "outputs": [],
   "source": [
    "def get_index_candidate(candidate_index, search_table):\n",
    "    return search_table.iloc[candidate_index].name\n",
    "    \n",
    "def get_candidate_index(candidate_id, search_table):\n",
    "    nimishs_df = search_table.reset_index()\n",
    "    return nimishs_df[nimishs_df[\"candidate_id\"] == candidate_id].index.values[0]\n",
    "\n",
    "def query_candidate_id(candidate_id, search_table):\n",
    "    can_index = get_candidate_index(candidate_id=candidate_id, search_table=search_table)\n",
    "    return kd.query(tst[can_index], k=NEIGHBORS)\n",
    "\n",
    "def get_contri_by_candidate_id(candidate_id):\n",
    "    \"\"\"Analysis function\"\"\"\n",
    "    # Contributions\n",
    "    contributions = sixteen_contri_df[['candidate_id', 'transaction_amount', 'contributor_name']]\n",
    "    contributions = contributions.groupby(['candidate_id','contributor_name'])['transaction_amount'].sum().reset_index()\n",
    "    # Candidates\n",
    "    candidate_names = candidates[['CAND_ID', 'CAND_NAME']].drop_duplicates()\n",
    "\n",
    "    # Merge \n",
    "    rich_fucks = pd.merge(contributions, candidate_names, left_on='candidate_id', right_on='CAND_ID')\n",
    "    rich_fucks = rich_fucks.sort_values(by=['transaction_amount','contributor_name'], ascending=False).reset_index(drop=True)\n",
    "    return rich_fucks[rich_fucks[\"candidate_id\"] == candidate_id]"
   ]
  },
  {
   "cell_type": "code",
   "execution_count": 7,
   "metadata": {},
   "outputs": [
    {
     "ename": "NameError",
     "evalue": "name 'candidate_id' is not defined",
     "output_type": "error",
     "traceback": [
      "\u001b[0;31m---------------------------------------------------------------------------\u001b[0m",
      "\u001b[0;31mNameError\u001b[0m                                 Traceback (most recent call last)",
      "\u001b[0;32m<ipython-input-7-a674f834a327>\u001b[0m in \u001b[0;36m<module>\u001b[0;34m\u001b[0m\n\u001b[1;32m      4\u001b[0m ]\n\u001b[1;32m      5\u001b[0m \u001b[0;34m\u001b[0m\u001b[0m\n\u001b[0;32m----> 6\u001b[0;31m \u001b[0mprint\u001b[0m\u001b[0;34m(\u001b[0m\u001b[0mcandidate_id\u001b[0m\u001b[0;34m,\u001b[0m \u001b[0mrich_names\u001b[0m\u001b[0;34m[\u001b[0m\u001b[0mrich_names\u001b[0m\u001b[0;34m[\u001b[0m\u001b[0;34m\"candidate_id\"\u001b[0m\u001b[0;34m]\u001b[0m\u001b[0;34m==\u001b[0m\u001b[0mcandidate_id\u001b[0m\u001b[0;34m]\u001b[0m\u001b[0;34m.\u001b[0m\u001b[0mCAND_NAME\u001b[0m\u001b[0;34m)\u001b[0m\u001b[0;34m\u001b[0m\u001b[0;34m\u001b[0m\u001b[0m\n\u001b[0m\u001b[1;32m      7\u001b[0m \u001b[0mdistances\u001b[0m\u001b[0;34m,\u001b[0m \u001b[0mneighbor_indices\u001b[0m \u001b[0;34m=\u001b[0m \u001b[0mquery_candidate_id\u001b[0m\u001b[0;34m(\u001b[0m\u001b[0mcandidate_id\u001b[0m\u001b[0;34m=\u001b[0m\u001b[0mcandidate_id\u001b[0m\u001b[0;34m,\u001b[0m \u001b[0msearch_table\u001b[0m\u001b[0;34m=\u001b[0m\u001b[0mfiltered_df\u001b[0m\u001b[0;34m)\u001b[0m\u001b[0;34m\u001b[0m\u001b[0;34m\u001b[0m\u001b[0m\n\u001b[1;32m      8\u001b[0m \u001b[0mprint\u001b[0m\u001b[0;34m(\u001b[0m\u001b[0mdistances\u001b[0m\u001b[0;34m)\u001b[0m\u001b[0;34m\u001b[0m\u001b[0;34m\u001b[0m\u001b[0m\n",
      "\u001b[0;31mNameError\u001b[0m: name 'candidate_id' is not defined"
     ]
    }
   ],
   "source": [
    "interesting_candidates = [\n",
    "    \"H6CA39020\", # Flake\n",
    "    \"P60008059\", # Bush\n",
    "]\n",
    "\n",
    "print(candidate_id, rich_names[rich_names[\"candidate_id\"]==candidate_id].CAND_NAME)\n",
    "distances, neighbor_indices = query_candidate_id(candidate_id=candidate_id, search_table=filtered_df)\n",
    "print(distances)\n",
    "\n",
    "for neighbor in neighbor_indices:\n",
    "    neighbor_candidate_id = get_index_candidate(candidate_index=neighbor, search_table=filtered_df)\n",
    "    print(neighbor_candidate_id, rich_names[rich_names[\"candidate_id\"]==neighbor_candidate_id].CAND_NAME)"
   ]
  },
  {
   "cell_type": "code",
   "execution_count": null,
   "metadata": {},
   "outputs": [],
   "source": [
    "\n",
    "flake_id=\"H6CA39020\"\n",
    "flake_can_index = get_candidate_index(candidate_id=flake_id, search_table=filtered_df)\n",
    "bush_can_index = get_candidate_index(candidate_id=bush_id, search_table=filtered_df)\n",
    "print(tst[flake_can_index])\n",
    "bush_id = \"P60008059\"\n",
    "print(tst[bush_can_index])\n",
    "get_contri_by_candidate_id(bush_id)"
   ]
  },
  {
   "cell_type": "code",
   "execution_count": null,
   "metadata": {},
   "outputs": [],
   "source": []
  },
  {
   "cell_type": "code",
   "execution_count": null,
   "metadata": {},
   "outputs": [],
   "source": [
    "# find your candidate\n",
    "# pull only candidate id and index\n",
    "cand_id_index = filtered_df.index\n",
    "nmf = sklearn.decomposition.NMF(n_components=10)\n",
    "tst = nmf.fit_transform(filtered_df.fillna(0))\n",
    "kd = sp.kdtree.KDTree(tst)\n",
    "kd.query(tst[100], k=10)\n",
    "\n",
    "# couple dweebs\n",
    "candidates[candidates['CAND_ID'].isin([cand_id_index[100], cand_id_index[531]])]"
   ]
  }
 ],
 "metadata": {
  "file_extension": ".py",
  "kernelspec": {
   "display_name": "Python 3",
   "language": "python",
   "name": "python3"
  },
  "language_info": {
   "codemirror_mode": {
    "name": "ipython",
    "version": 3
   },
   "file_extension": ".py",
   "mimetype": "text/x-python",
   "name": "python",
   "nbconvert_exporter": "python",
   "pygments_lexer": "ipython3",
   "version": "3.6.7"
  },
  "mimetype": "text/x-python",
  "name": "python",
  "npconvert_exporter": "python",
  "pygments_lexer": "ipython2",
  "version": 2
 },
 "nbformat": 4,
 "nbformat_minor": 2
}
